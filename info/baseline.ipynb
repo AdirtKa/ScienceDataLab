{
 "cells": [
  {
   "cell_type": "code",
   "execution_count": 27,
   "metadata": {
    "collapsed": false
   },
   "outputs": [
    {
     "name": "stdout",
     "output_type": "stream",
     "text": [
      "Requirement already satisfied: scikit-learn in c:\\users\\4e6ype4ek\\pycharmprojects\\geoml\\venv\\lib\\site-packages (1.5.1)\n",
      "Requirement already satisfied: joblib>=1.2.0 in c:\\users\\4e6ype4ek\\pycharmprojects\\geoml\\venv\\lib\\site-packages (from scikit-learn) (1.4.2)\n",
      "Requirement already satisfied: threadpoolctl>=3.1.0 in c:\\users\\4e6ype4ek\\pycharmprojects\\geoml\\venv\\lib\\site-packages (from scikit-learn) (3.5.0)\n",
      "Requirement already satisfied: numpy>=1.19.5 in c:\\users\\4e6ype4ek\\pycharmprojects\\geoml\\venv\\lib\\site-packages (from scikit-learn) (2.0.1)\n",
      "Requirement already satisfied: scipy>=1.6.0 in c:\\users\\4e6ype4ek\\pycharmprojects\\geoml\\venv\\lib\\site-packages (from scikit-learn) (1.13.1)\n"
     ]
    },
    {
     "name": "stderr",
     "output_type": "stream",
     "text": [
      "WARNING: You are using pip version 21.3.1; however, version 24.2 is available.\n",
      "You should consider upgrading via the 'C:\\Users\\4e6yPe4eK\\PycharmProjects\\geoML\\venv\\Scripts\\python.exe -m pip install --upgrade pip' command.\n"
     ]
    },
    {
     "name": "stdout",
     "output_type": "stream",
     "text": [
      "Requirement already satisfied: pandas in c:\\users\\4e6ype4ek\\pycharmprojects\\geoml\\venv\\lib\\site-packages (2.2.2)\n",
      "Requirement already satisfied: pytz>=2020.1 in c:\\users\\4e6ype4ek\\pycharmprojects\\geoml\\venv\\lib\\site-packages (from pandas) (2024.1)\n",
      "Requirement already satisfied: numpy>=1.22.4 in c:\\users\\4e6ype4ek\\pycharmprojects\\geoml\\venv\\lib\\site-packages (from pandas) (2.0.1)\n",
      "Requirement already satisfied: python-dateutil>=2.8.2 in c:\\users\\4e6ype4ek\\pycharmprojects\\geoml\\venv\\lib\\site-packages (from pandas) (2.9.0.post0)\n",
      "Requirement already satisfied: tzdata>=2022.7 in c:\\users\\4e6ype4ek\\pycharmprojects\\geoml\\venv\\lib\\site-packages (from pandas) (2024.1)\n",
      "Requirement already satisfied: six>=1.5 in c:\\users\\4e6ype4ek\\pycharmprojects\\geoml\\venv\\lib\\site-packages (from python-dateutil>=2.8.2->pandas) (1.16.0)\n"
     ]
    },
    {
     "name": "stderr",
     "output_type": "stream",
     "text": [
      "WARNING: You are using pip version 21.3.1; however, version 24.2 is available.\n",
      "You should consider upgrading via the 'C:\\Users\\4e6yPe4eK\\PycharmProjects\\geoML\\venv\\Scripts\\python.exe -m pip install --upgrade pip' command.\n"
     ]
    },
    {
     "name": "stdout",
     "output_type": "stream",
     "text": [
      "Requirement already satisfied: matplotlib in c:\\users\\4e6ype4ek\\pycharmprojects\\geoml\\venv\\lib\\site-packages (3.9.0)\n",
      "Requirement already satisfied: contourpy>=1.0.1 in c:\\users\\4e6ype4ek\\pycharmprojects\\geoml\\venv\\lib\\site-packages (from matplotlib) (1.2.1)\n",
      "Requirement already satisfied: pillow>=8 in c:\\users\\4e6ype4ek\\pycharmprojects\\geoml\\venv\\lib\\site-packages (from matplotlib) (10.4.0)\n",
      "Requirement already satisfied: importlib-resources>=3.2.0 in c:\\users\\4e6ype4ek\\pycharmprojects\\geoml\\venv\\lib\\site-packages (from matplotlib) (6.4.0)\n",
      "Requirement already satisfied: pyparsing>=2.3.1 in c:\\users\\4e6ype4ek\\pycharmprojects\\geoml\\venv\\lib\\site-packages (from matplotlib) (3.1.2)\n",
      "Requirement already satisfied: fonttools>=4.22.0 in c:\\users\\4e6ype4ek\\pycharmprojects\\geoml\\venv\\lib\\site-packages (from matplotlib) (4.53.1)\n",
      "Requirement already satisfied: kiwisolver>=1.3.1 in c:\\users\\4e6ype4ek\\pycharmprojects\\geoml\\venv\\lib\\site-packages (from matplotlib) (1.4.5)\n",
      "Requirement already satisfied: python-dateutil>=2.7 in c:\\users\\4e6ype4ek\\pycharmprojects\\geoml\\venv\\lib\\site-packages (from matplotlib) (2.9.0.post0)\n",
      "Requirement already satisfied: numpy>=1.23 in c:\\users\\4e6ype4ek\\pycharmprojects\\geoml\\venv\\lib\\site-packages (from matplotlib) (2.0.1)\n",
      "Requirement already satisfied: cycler>=0.10 in c:\\users\\4e6ype4ek\\pycharmprojects\\geoml\\venv\\lib\\site-packages (from matplotlib) (0.12.1)\n",
      "Requirement already satisfied: packaging>=20.0 in c:\\users\\4e6ype4ek\\pycharmprojects\\geoml\\venv\\lib\\site-packages (from matplotlib) (24.1)\n",
      "Requirement already satisfied: zipp>=3.1.0 in c:\\users\\4e6ype4ek\\pycharmprojects\\geoml\\venv\\lib\\site-packages (from importlib-resources>=3.2.0->matplotlib) (3.19.2)\n",
      "Requirement already satisfied: six>=1.5 in c:\\users\\4e6ype4ek\\pycharmprojects\\geoml\\venv\\lib\\site-packages (from python-dateutil>=2.7->matplotlib) (1.16.0)\n"
     ]
    },
    {
     "name": "stderr",
     "output_type": "stream",
     "text": [
      "WARNING: You are using pip version 21.3.1; however, version 24.2 is available.\n",
      "You should consider upgrading via the 'C:\\Users\\4e6yPe4eK\\PycharmProjects\\geoML\\venv\\Scripts\\python.exe -m pip install --upgrade pip' command.\n"
     ]
    },
    {
     "name": "stdout",
     "output_type": "stream",
     "text": [
      "Requirement already satisfied: numpy in c:\\users\\4e6ype4ek\\pycharmprojects\\geoml\\venv\\lib\\site-packages (2.0.1)\n"
     ]
    },
    {
     "name": "stderr",
     "output_type": "stream",
     "text": [
      "WARNING: You are using pip version 21.3.1; however, version 24.2 is available.\n",
      "You should consider upgrading via the 'C:\\Users\\4e6yPe4eK\\PycharmProjects\\geoML\\venv\\Scripts\\python.exe -m pip install --upgrade pip' command.\n"
     ]
    }
   ],
   "source": [
    "!pip install scikit-learn\n",
    "!pip install pandas\n",
    "!pip install matplotlib\n",
    "!pip install numpy"
   ]
  },
  {
   "cell_type": "markdown",
   "metadata": {
    "collapsed": false,
    "id": "k5292_-m2p73"
   },
   "source": [
    "### Импорт необходимых библиотек"
   ]
  },
  {
   "cell_type": "code",
   "execution_count": 28,
   "metadata": {
    "ExecuteTime": {
     "end_time": "2024-09-22T13:01:00.439076Z",
     "start_time": "2024-09-22T13:01:00.423452Z"
    },
    "collapsed": true,
    "id": "HCxAb3yQ2p75"
   },
   "outputs": [],
   "source": [
    "from sklearn.model_selection import train_test_split\n",
    "from sklearn.ensemble import RandomForestClassifier\n",
    "from sklearn.preprocessing import Normalizer, OneHotEncoder\n",
    "from sklearn.pipeline import Pipeline\n",
    "from sklearn.metrics import classification_report\n",
    "import pandas as pd\n",
    "import matplotlib.pyplot as plt\n",
    "import numpy as np\n",
    "import pickle\n",
    "\n",
    "%matplotlib inline"
   ]
  },
  {
   "cell_type": "markdown",
   "metadata": {
    "collapsed": false,
    "id": "5VWei2Jc2p77"
   },
   "source": [
    "### Работа с данными"
   ]
  },
  {
   "cell_type": "markdown",
   "metadata": {
    "collapsed": false,
    "id": "B7OI8oxl2p77"
   },
   "source": [
    "#### Описание датасета\n",
    "\n",
    "Директории train и test - данные для обучения и прогнозирования соответственно\n",
    "\n",
    "Каждая директория содержит 10 файлов. 9 файлов вида B**.csv - значения каналов, файл NDVI.csv - рассчитанное значение индекса NDVI.\n",
    "\n",
    "Каждый файл содержит 26 числовых столбцов со значениями каналов в k-ый день от начала года. Также данные для обучения содержат столбец culture с названием выращиваемой культуры.\n",
    "\n",
    "![image.png](data:image/png;base64,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)"
   ]
  },
  {
   "cell_type": "code",
   "execution_count": 29,
   "metadata": {
    "ExecuteTime": {
     "end_time": "2024-09-22T13:05:58.670068Z",
     "start_time": "2024-09-22T13:05:58.527472Z"
    },
    "id": "Vo_lttZi2p78"
   },
   "outputs": [
    {
     "data": {
      "text/html": [
       "<div>\n",
       "<style scoped>\n",
       "    .dataframe tbody tr th:only-of-type {\n",
       "        vertical-align: middle;\n",
       "    }\n",
       "\n",
       "    .dataframe tbody tr th {\n",
       "        vertical-align: top;\n",
       "    }\n",
       "\n",
       "    .dataframe thead th {\n",
       "        text-align: right;\n",
       "    }\n",
       "</style>\n",
       "<table border=\"1\" class=\"dataframe\">\n",
       "  <thead>\n",
       "    <tr style=\"text-align: right;\">\n",
       "      <th></th>\n",
       "      <th>index</th>\n",
       "      <th>121</th>\n",
       "      <th>128</th>\n",
       "      <th>135</th>\n",
       "      <th>142</th>\n",
       "      <th>149</th>\n",
       "      <th>156</th>\n",
       "      <th>163</th>\n",
       "      <th>170</th>\n",
       "      <th>177</th>\n",
       "      <th>...</th>\n",
       "      <th>240</th>\n",
       "      <th>247</th>\n",
       "      <th>254</th>\n",
       "      <th>261</th>\n",
       "      <th>268</th>\n",
       "      <th>275</th>\n",
       "      <th>282</th>\n",
       "      <th>289</th>\n",
       "      <th>296</th>\n",
       "      <th>culture</th>\n",
       "    </tr>\n",
       "  </thead>\n",
       "  <tbody>\n",
       "    <tr>\n",
       "      <th>0</th>\n",
       "      <td>0</td>\n",
       "      <td>0.188244</td>\n",
       "      <td>0.206521</td>\n",
       "      <td>0.232910</td>\n",
       "      <td>0.193433</td>\n",
       "      <td>0.263238</td>\n",
       "      <td>0.228108</td>\n",
       "      <td>NaN</td>\n",
       "      <td>0.273979</td>\n",
       "      <td>0.485290</td>\n",
       "      <td>...</td>\n",
       "      <td>0.527890</td>\n",
       "      <td>0.369459</td>\n",
       "      <td>0.307789</td>\n",
       "      <td>0.240027</td>\n",
       "      <td>0.235724</td>\n",
       "      <td>0.232962</td>\n",
       "      <td>0.222736</td>\n",
       "      <td>0.222434</td>\n",
       "      <td>0.176798</td>\n",
       "      <td>овощи</td>\n",
       "    </tr>\n",
       "    <tr>\n",
       "      <th>1</th>\n",
       "      <td>1</td>\n",
       "      <td>0.205408</td>\n",
       "      <td>0.191509</td>\n",
       "      <td>0.196319</td>\n",
       "      <td>0.234625</td>\n",
       "      <td>0.217135</td>\n",
       "      <td>NaN</td>\n",
       "      <td>NaN</td>\n",
       "      <td>0.265847</td>\n",
       "      <td>0.390356</td>\n",
       "      <td>...</td>\n",
       "      <td>0.642006</td>\n",
       "      <td>0.375903</td>\n",
       "      <td>0.261837</td>\n",
       "      <td>0.249050</td>\n",
       "      <td>0.246539</td>\n",
       "      <td>0.236201</td>\n",
       "      <td>0.195369</td>\n",
       "      <td>0.179459</td>\n",
       "      <td>0.185455</td>\n",
       "      <td>овощи</td>\n",
       "    </tr>\n",
       "    <tr>\n",
       "      <th>2</th>\n",
       "      <td>2</td>\n",
       "      <td>0.248486</td>\n",
       "      <td>0.227092</td>\n",
       "      <td>0.214698</td>\n",
       "      <td>0.189572</td>\n",
       "      <td>0.170360</td>\n",
       "      <td>0.193713</td>\n",
       "      <td>0.241287</td>\n",
       "      <td>NaN</td>\n",
       "      <td>0.255663</td>\n",
       "      <td>...</td>\n",
       "      <td>0.855819</td>\n",
       "      <td>0.848892</td>\n",
       "      <td>NaN</td>\n",
       "      <td>0.606488</td>\n",
       "      <td>0.390919</td>\n",
       "      <td>0.350582</td>\n",
       "      <td>NaN</td>\n",
       "      <td>0.264301</td>\n",
       "      <td>0.196965</td>\n",
       "      <td>овощи</td>\n",
       "    </tr>\n",
       "    <tr>\n",
       "      <th>3</th>\n",
       "      <td>3</td>\n",
       "      <td>0.287250</td>\n",
       "      <td>0.311047</td>\n",
       "      <td>0.466755</td>\n",
       "      <td>0.616326</td>\n",
       "      <td>0.737785</td>\n",
       "      <td>0.799452</td>\n",
       "      <td>0.846053</td>\n",
       "      <td>0.868648</td>\n",
       "      <td>0.882441</td>\n",
       "      <td>...</td>\n",
       "      <td>0.831719</td>\n",
       "      <td>0.815582</td>\n",
       "      <td>0.827515</td>\n",
       "      <td>0.763338</td>\n",
       "      <td>NaN</td>\n",
       "      <td>0.551148</td>\n",
       "      <td>0.464271</td>\n",
       "      <td>0.384087</td>\n",
       "      <td>0.385868</td>\n",
       "      <td>залежь</td>\n",
       "    </tr>\n",
       "    <tr>\n",
       "      <th>4</th>\n",
       "      <td>4</td>\n",
       "      <td>0.311994</td>\n",
       "      <td>0.416566</td>\n",
       "      <td>0.583125</td>\n",
       "      <td>0.704017</td>\n",
       "      <td>0.780974</td>\n",
       "      <td>0.853372</td>\n",
       "      <td>0.900345</td>\n",
       "      <td>0.930666</td>\n",
       "      <td>NaN</td>\n",
       "      <td>...</td>\n",
       "      <td>0.859423</td>\n",
       "      <td>0.873036</td>\n",
       "      <td>0.844018</td>\n",
       "      <td>0.830362</td>\n",
       "      <td>0.624388</td>\n",
       "      <td>0.706048</td>\n",
       "      <td>0.582176</td>\n",
       "      <td>0.500958</td>\n",
       "      <td>0.420562</td>\n",
       "      <td>залежь</td>\n",
       "    </tr>\n",
       "    <tr>\n",
       "      <th>5</th>\n",
       "      <td>5</td>\n",
       "      <td>0.260177</td>\n",
       "      <td>0.241893</td>\n",
       "      <td>0.281690</td>\n",
       "      <td>0.255721</td>\n",
       "      <td>0.203901</td>\n",
       "      <td>0.252407</td>\n",
       "      <td>0.335413</td>\n",
       "      <td>0.357807</td>\n",
       "      <td>0.567287</td>\n",
       "      <td>...</td>\n",
       "      <td>0.521328</td>\n",
       "      <td>0.417956</td>\n",
       "      <td>0.358768</td>\n",
       "      <td>0.339409</td>\n",
       "      <td>NaN</td>\n",
       "      <td>0.256801</td>\n",
       "      <td>0.418037</td>\n",
       "      <td>0.417092</td>\n",
       "      <td>0.220723</td>\n",
       "      <td>овощи</td>\n",
       "    </tr>\n",
       "    <tr>\n",
       "      <th>6</th>\n",
       "      <td>6</td>\n",
       "      <td>0.243982</td>\n",
       "      <td>0.222244</td>\n",
       "      <td>0.225098</td>\n",
       "      <td>0.199966</td>\n",
       "      <td>0.237663</td>\n",
       "      <td>0.260808</td>\n",
       "      <td>0.225740</td>\n",
       "      <td>0.253234</td>\n",
       "      <td>0.381375</td>\n",
       "      <td>...</td>\n",
       "      <td>0.874592</td>\n",
       "      <td>0.510040</td>\n",
       "      <td>0.203177</td>\n",
       "      <td>0.231610</td>\n",
       "      <td>0.249093</td>\n",
       "      <td>0.248608</td>\n",
       "      <td>0.230990</td>\n",
       "      <td>NaN</td>\n",
       "      <td>0.201148</td>\n",
       "      <td>овощи</td>\n",
       "    </tr>\n",
       "    <tr>\n",
       "      <th>7</th>\n",
       "      <td>7</td>\n",
       "      <td>0.231079</td>\n",
       "      <td>0.275978</td>\n",
       "      <td>0.259259</td>\n",
       "      <td>0.224081</td>\n",
       "      <td>0.277293</td>\n",
       "      <td>0.311031</td>\n",
       "      <td>0.278044</td>\n",
       "      <td>0.317316</td>\n",
       "      <td>NaN</td>\n",
       "      <td>...</td>\n",
       "      <td>0.898339</td>\n",
       "      <td>NaN</td>\n",
       "      <td>0.739521</td>\n",
       "      <td>0.554141</td>\n",
       "      <td>0.417877</td>\n",
       "      <td>0.303910</td>\n",
       "      <td>NaN</td>\n",
       "      <td>NaN</td>\n",
       "      <td>0.258387</td>\n",
       "      <td>соя</td>\n",
       "    </tr>\n",
       "    <tr>\n",
       "      <th>8</th>\n",
       "      <td>8</td>\n",
       "      <td>0.242375</td>\n",
       "      <td>0.179980</td>\n",
       "      <td>0.207202</td>\n",
       "      <td>NaN</td>\n",
       "      <td>0.195266</td>\n",
       "      <td>0.184495</td>\n",
       "      <td>0.191578</td>\n",
       "      <td>0.215180</td>\n",
       "      <td>0.261571</td>\n",
       "      <td>...</td>\n",
       "      <td>0.863774</td>\n",
       "      <td>0.493106</td>\n",
       "      <td>0.080757</td>\n",
       "      <td>0.243112</td>\n",
       "      <td>0.214876</td>\n",
       "      <td>0.228132</td>\n",
       "      <td>0.206571</td>\n",
       "      <td>0.216145</td>\n",
       "      <td>0.162141</td>\n",
       "      <td>кукуруза</td>\n",
       "    </tr>\n",
       "    <tr>\n",
       "      <th>9</th>\n",
       "      <td>9</td>\n",
       "      <td>0.191610</td>\n",
       "      <td>0.207657</td>\n",
       "      <td>0.226461</td>\n",
       "      <td>0.247085</td>\n",
       "      <td>0.180790</td>\n",
       "      <td>0.240888</td>\n",
       "      <td>0.252291</td>\n",
       "      <td>0.260643</td>\n",
       "      <td>0.419902</td>\n",
       "      <td>...</td>\n",
       "      <td>0.781001</td>\n",
       "      <td>0.437093</td>\n",
       "      <td>0.218712</td>\n",
       "      <td>0.241072</td>\n",
       "      <td>0.254690</td>\n",
       "      <td>0.181041</td>\n",
       "      <td>0.210330</td>\n",
       "      <td>0.157217</td>\n",
       "      <td>0.220371</td>\n",
       "      <td>овощи</td>\n",
       "    </tr>\n",
       "  </tbody>\n",
       "</table>\n",
       "<p>10 rows × 28 columns</p>\n",
       "</div>"
      ],
      "text/plain": [
       "   index       121       128       135       142       149       156  \\\n",
       "0      0  0.188244  0.206521  0.232910  0.193433  0.263238  0.228108   \n",
       "1      1  0.205408  0.191509  0.196319  0.234625  0.217135       NaN   \n",
       "2      2  0.248486  0.227092  0.214698  0.189572  0.170360  0.193713   \n",
       "3      3  0.287250  0.311047  0.466755  0.616326  0.737785  0.799452   \n",
       "4      4  0.311994  0.416566  0.583125  0.704017  0.780974  0.853372   \n",
       "5      5  0.260177  0.241893  0.281690  0.255721  0.203901  0.252407   \n",
       "6      6  0.243982  0.222244  0.225098  0.199966  0.237663  0.260808   \n",
       "7      7  0.231079  0.275978  0.259259  0.224081  0.277293  0.311031   \n",
       "8      8  0.242375  0.179980  0.207202       NaN  0.195266  0.184495   \n",
       "9      9  0.191610  0.207657  0.226461  0.247085  0.180790  0.240888   \n",
       "\n",
       "        163       170       177  ...       240       247       254       261  \\\n",
       "0       NaN  0.273979  0.485290  ...  0.527890  0.369459  0.307789  0.240027   \n",
       "1       NaN  0.265847  0.390356  ...  0.642006  0.375903  0.261837  0.249050   \n",
       "2  0.241287       NaN  0.255663  ...  0.855819  0.848892       NaN  0.606488   \n",
       "3  0.846053  0.868648  0.882441  ...  0.831719  0.815582  0.827515  0.763338   \n",
       "4  0.900345  0.930666       NaN  ...  0.859423  0.873036  0.844018  0.830362   \n",
       "5  0.335413  0.357807  0.567287  ...  0.521328  0.417956  0.358768  0.339409   \n",
       "6  0.225740  0.253234  0.381375  ...  0.874592  0.510040  0.203177  0.231610   \n",
       "7  0.278044  0.317316       NaN  ...  0.898339       NaN  0.739521  0.554141   \n",
       "8  0.191578  0.215180  0.261571  ...  0.863774  0.493106  0.080757  0.243112   \n",
       "9  0.252291  0.260643  0.419902  ...  0.781001  0.437093  0.218712  0.241072   \n",
       "\n",
       "        268       275       282       289       296   culture  \n",
       "0  0.235724  0.232962  0.222736  0.222434  0.176798     овощи  \n",
       "1  0.246539  0.236201  0.195369  0.179459  0.185455     овощи  \n",
       "2  0.390919  0.350582       NaN  0.264301  0.196965     овощи  \n",
       "3       NaN  0.551148  0.464271  0.384087  0.385868    залежь  \n",
       "4  0.624388  0.706048  0.582176  0.500958  0.420562    залежь  \n",
       "5       NaN  0.256801  0.418037  0.417092  0.220723     овощи  \n",
       "6  0.249093  0.248608  0.230990       NaN  0.201148     овощи  \n",
       "7  0.417877  0.303910       NaN       NaN  0.258387       соя  \n",
       "8  0.214876  0.228132  0.206571  0.216145  0.162141  кукуруза  \n",
       "9  0.254690  0.181041  0.210330  0.157217  0.220371     овощи  \n",
       "\n",
       "[10 rows x 28 columns]"
      ]
     },
     "execution_count": 29,
     "metadata": {},
     "output_type": "execute_result"
    }
   ],
   "source": [
    "df_ndvi = pd.read_csv(\"train/NDVI.csv\", sep=\";\", encoding=\"windows-1251\")\n",
    "df_ndvi.head(10)"
   ]
  },
  {
   "cell_type": "code",
   "execution_count": 30,
   "metadata": {
    "ExecuteTime": {
     "end_time": "2024-09-22T13:06:02.817503Z",
     "start_time": "2024-09-22T13:06:02.798073Z"
    },
    "id": "G9xqyAl82p78"
   },
   "outputs": [],
   "source": [
    "df_ndvi = df_ndvi.drop(columns=[\"index\"])  # Удалим столбец с индексами, в данном примере они не понадобятся"
   ]
  },
  {
   "cell_type": "code",
   "execution_count": 31,
   "metadata": {
    "ExecuteTime": {
     "end_time": "2024-09-22T13:06:06.818569Z",
     "start_time": "2024-09-22T13:06:06.790550Z"
    },
    "id": "Fq81Cd6n2p78"
   },
   "outputs": [
    {
     "data": {
      "text/plain": [
       "121        610\n",
       "128        545\n",
       "135        583\n",
       "142        578\n",
       "149        587\n",
       "156        583\n",
       "163        601\n",
       "170        566\n",
       "177        608\n",
       "184        579\n",
       "191        604\n",
       "198        632\n",
       "205        572\n",
       "212        591\n",
       "219        611\n",
       "226        589\n",
       "233        575\n",
       "240        591\n",
       "247        555\n",
       "254        595\n",
       "261        548\n",
       "268        583\n",
       "275        532\n",
       "282        601\n",
       "289        596\n",
       "296        572\n",
       "culture      0\n",
       "dtype: int64"
      ]
     },
     "execution_count": 31,
     "metadata": {},
     "output_type": "execute_result"
    }
   ],
   "source": [
    "df_ndvi.isna().sum()  # Проверим наличие пустых значений"
   ]
  },
  {
   "cell_type": "markdown",
   "metadata": {
    "collapsed": false,
    "id": "n2pJYIhM2p79"
   },
   "source": [
    "##### Построим усреднённый график значений NDVI культур\n",
    "> По этому графику можно сделать выводы какие культуры похожи своими графиками, помогает заметить выбросы и ещё многое другое. Далее Вы можете использовать это для модификации модели."
   ]
  },
  {
   "cell_type": "code",
   "execution_count": 32,
   "metadata": {
    "ExecuteTime": {
     "end_time": "2024-09-22T13:06:12.071155Z",
     "start_time": "2024-09-22T13:06:10.899475Z"
    },
    "id": "rmyQsGO92p79"
   },
   "outputs": [
    {
     "name": "stdout",
     "output_type": "stream",
     "text": [
      "['овощи', 'залежь', 'соя', 'кукуруза', 'зерновые', 'многолетние травы']\n"
     ]
    },
    {
     "data": {
      "image/png": "[encoded data removed]",
      "text/plain": [
       "<Figure size 1000x800 with 1 Axes>"
      ]
     },
     "metadata": {},
     "output_type": "display_data"
    }
   ],
   "source": [
    "cul = list(df_ndvi['culture'].unique().tolist())\n",
    "print(cul)\n",
    "fig, ax = plt.subplots(figsize=(10,8))\n",
    "\n",
    "plt.yticks(fontsize=10)\n",
    "\n",
    "ax.set_xlabel('День от начала года',fontsize = 10,fontweight=\"bold\")\n",
    "ax.set_ylabel('NDVI',fontsize = 16,fontweight=\"bold\")\n",
    "ax.patch.set_edgecolor('black')\n",
    "\n",
    "ax.patch.set_linewidth(1)\n",
    "plt.ylim([0.1, 0.9])\n",
    "\n",
    "\n",
    "xx = ['121', '128', '135', '142', '149', '156', '163', '170', '177', '184', '191', '198', '205', '212', '219', '226', '233', '240', '247', '254', '261', '268', '275', '282', '289', '296']\n",
    "colors = plt.cm.coolwarm(np.array(len(cul)))\n",
    "for i in range(len(cul)):\n",
    "    p = df_ndvi.loc[(df_ndvi['culture'] == cul[i])].drop(columns=['culture']).mean()\n",
    "    ax.plot(xx, p.values.tolist(), label=cul[i], linestyle = '-', marker = 's', markersize = 6, linewidth = 2)\n",
    "plt.yticks(size=10, fontweight=\"bold\")\n",
    "leg = ax.legend(fontsize=10, loc ='upper left')\n",
    "\n",
    "plt.show()"
   ]
  },
  {
   "cell_type": "markdown",
   "metadata": {
    "collapsed": false,
    "id": "GOKw00rA2p79"
   },
   "source": [
    "#### Сконструируем новые признаки\n",
    "\n",
    "Иногда при помощи конструирования новых признаков на основе существующих можно добиться улучшения эффективности модели.\n",
    "\n",
    "Попробуем сконструировать новый признак по формулам:\n",
    "\n",
    "$NDWI = \\frac{NIR - SWIR}{NIR + SWIR}$\n",
    "\n",
    "<br>\n",
    "\n",
    "$NEW\\_FEATURE = NDVI * NDWI$"
   ]
  },
  {
   "cell_type": "code",
   "execution_count": 33,
   "metadata": {
    "id": "Rrj0JR9b2p7-"
   },
   "outputs": [],
   "source": [
    "df_nir = pd.read_csv(\"train/B8A.csv\", sep=';', encoding=\"windows-1251\").drop(columns=[\"index\"])  # B8A - канал со значениями NIR\n",
    "df_swir = pd.read_csv(\"train/B12.csv\", sep=';', encoding=\"windows-1251\").drop(columns=[\"index\"])  # B12 - канал со значениями SWIR"
   ]
  },
  {
   "cell_type": "code",
   "execution_count": 36,
   "metadata": {
    "id": "Lpud3B0e2p7_"
   },
   "outputs": [],
   "source": [
    "df_features = df_ndvi.copy()  # Создадим таблицу для используемых признаков\n",
    "\n",
    "for day in xx:  # Переберем все дни и создадим новый признак для каждого дня\n",
    "    df_features[f\"{day}_NDWI\"] = (df_nir[day] - df_swir[day]) / (df_nir[day] + df_swir[day])\n",
    "    df_features[f\"{day}_NEW\"] = df_ndvi[day] * df_features[f\"{day}_NDWI\"]\n",
    "\n",
    "df_features.tail()"
   ]
  },
  {
   "cell_type": "markdown",
   "metadata": {
    "collapsed": false,
    "id": "N4LRzswB2p7_"
   },
   "source": [
    "#### Сформируем датасет\n",
    ">\n",
    "> X - матрица признаков\n",
    "> Y - матрица ответов\n",
    "\n",
    "* При формировании матрицы ответов используем методику OneHotEncoding. Столбец ответа (названия культуры) конвертируется в несколько столбцов вида \"Это культура K?\". В каждой строке только в одном из столбцов есть значение 1 - показатель принадлежности к классу\n",
    "\n",
    "\n",
    "+ Обе матрицы разделяются на две части - train и test. Это делается для того, чтобы при обучении модель оценивалась на других данных и не \"заучивала\" данные. Без этого на \"боевых\" данных модель будет работать плохо."
   ]
  },
  {
   "cell_type": "code",
   "execution_count": 37,
   "metadata": {
    "id": "GM7mNcFU2p7_"
   },
   "outputs": [],
   "source": [
    "encoder = OneHotEncoder()\n",
    "\n",
    "x = df_features.drop(columns=[\"culture\"])\n",
    "y = pd.DataFrame(encoder.fit_transform(df_features[['culture']]).toarray(), columns=encoder.get_feature_names_out(['culture']))\n",
    "\n",
    "x_train, x_test, y_train, y_test = train_test_split(x, y, test_size=0.3, random_state=0)"
   ]
  },
  {
   "cell_type": "markdown",
   "metadata": {
    "collapsed": false,
    "id": "pgIfOuSn2p7_"
   },
   "source": [
    "### Обучение моделей"
   ]
  },
  {
   "cell_type": "markdown",
   "metadata": {
    "collapsed": false,
    "id": "4I5FgKLH2p8A"
   },
   "source": [
    "#### 1. Random Forest\n",
    "\n",
    "Алгоритм случайного леса (Random Forest) — универсальный алгоритм машинного обучения, суть которого состоит в использовании ансамбля решающих деревьев. Само по себе решающее дерево предоставляет крайне невысокое качество классификации, но из-за большого их количества результат значительно улучшается. Также это один из немногих алгоритмов, который можно использовать в абсолютном большинстве задач."
   ]
  },
  {
   "cell_type": "markdown",
   "metadata": {
    "collapsed": false,
    "id": "k1enkZw52p8A"
   },
   "source": [
    "Нормализация данных является важным шагом в предобработке данных для машинного обучения. Она включает в себя масштабирование значений признаков в определенный диапазон. Это помогает увеличить численную стабильность и уравнить влияние признаков"
   ]
  },
  {
   "cell_type": "code",
   "execution_count": 38,
   "metadata": {
    "id": "fMDuoL352p8A"
   },
   "outputs": [],
   "source": [
    "normalizer = Normalizer()"
   ]
  },
  {
   "cell_type": "code",
   "execution_count": 39,
   "metadata": {
    "id": "8j49w1GB2p8A"
   },
   "outputs": [],
   "source": [
    "model = RandomForestClassifier()"
   ]
  },
  {
   "cell_type": "code",
   "execution_count": 40,
   "metadata": {
    "id": "42wfs3UQ2p8A"
   },
   "outputs": [],
   "source": [
    "pipeline = Pipeline([\n",
    "    (\"norm\", normalizer),\n",
    "    (\"model\", model)\n",
    "])\n",
    "#  Pipeline - инструмент для объединения последовательности нескольких обработок."
   ]
  },
  {
   "cell_type": "code",
   "execution_count": 41,
   "metadata": {
    "id": "oepc-wvj2p8A"
   },
   "outputs": [
    {
     "data": {
      "text/html": [
       "<style>#sk-container-id-2 {\n",
       "  /* Definition of color scheme common for light and dark mode */\n",
       "  --sklearn-color-text: black;\n",
       "  --sklearn-color-line: gray;\n",
       "  /* Definition of color scheme for unfitted estimators */\n",
       "  --sklearn-color-unfitted-level-0: #fff5e6;\n",
       "  --sklearn-color-unfitted-level-1: #f6e4d2;\n",
       "  --sklearn-color-unfitted-level-2: #ffe0b3;\n",
       "  --sklearn-color-unfitted-level-3: chocolate;\n",
       "  /* Definition of color scheme for fitted estimators */\n",
       "  --sklearn-color-fitted-level-0: #f0f8ff;\n",
       "  --sklearn-color-fitted-level-1: #d4ebff;\n",
       "  --sklearn-color-fitted-level-2: #b3dbfd;\n",
       "  --sklearn-color-fitted-level-3: cornflowerblue;\n",
       "\n",
       "  /* Specific color for light theme */\n",
       "  --sklearn-color-text-on-default-background: var(--sg-text-color, var(--theme-code-foreground, var(--jp-content-font-color1, black)));\n",
       "  --sklearn-color-background: var(--sg-background-color, var(--theme-background, var(--jp-layout-color0, white)));\n",
       "  --sklearn-color-border-box: var(--sg-text-color, var(--theme-code-foreground, var(--jp-content-font-color1, black)));\n",
       "  --sklearn-color-icon: #696969;\n",
       "\n",
       "  @media (prefers-color-scheme: dark) {\n",
       "    /* Redefinition of color scheme for dark theme */\n",
       "    --sklearn-color-text-on-default-background: var(--sg-text-color, var(--theme-code-foreground, var(--jp-content-font-color1, white)));\n",
       "    --sklearn-color-background: var(--sg-background-color, var(--theme-background, var(--jp-layout-color0, #111)));\n",
       "    --sklearn-color-border-box: var(--sg-text-color, var(--theme-code-foreground, var(--jp-content-font-color1, white)));\n",
       "    --sklearn-color-icon: #878787;\n",
       "  }\n",
       "}\n",
       "\n",
       "#sk-container-id-2 {\n",
       "  color: var(--sklearn-color-text);\n",
       "}\n",
       "\n",
       "#sk-container-id-2 pre {\n",
       "  padding: 0;\n",
       "}\n",
       "\n",
       "#sk-container-id-2 input.sk-hidden--visually {\n",
       "  border: 0;\n",
       "  clip: rect(1px 1px 1px 1px);\n",
       "  clip: rect(1px, 1px, 1px, 1px);\n",
       "  height: 1px;\n",
       "  margin: -1px;\n",
       "  overflow: hidden;\n",
       "  padding: 0;\n",
       "  position: absolute;\n",
       "  width: 1px;\n",
       "}\n",
       "\n",
       "#sk-container-id-2 div.sk-dashed-wrapped {\n",
       "  border: 1px dashed var(--sklearn-color-line);\n",
       "  margin: 0 0.4em 0.5em 0.4em;\n",
       "  box-sizing: border-box;\n",
       "  padding-bottom: 0.4em;\n",
       "  background-color: var(--sklearn-color-background);\n",
       "}\n",
       "\n",
       "#sk-container-id-2 div.sk-container {\n",
       "  /* jupyter's `normalize.less` sets `[hidden] { display: none; }`\n",
       "     but bootstrap.min.css set `[hidden] { display: none !important; }`\n",
       "     so we also need the `!important` here to be able to override the\n",
       "     default hidden behavior on the sphinx rendered scikit-learn.org.\n",
       "     See: https://github.com/scikit-learn/scikit-learn/issues/21755 */\n",
       "  display: inline-block !important;\n",
       "  position: relative;\n",
       "}\n",
       "\n",
       "#sk-container-id-2 div.sk-text-repr-fallback {\n",
       "  display: none;\n",
       "}\n",
       "\n",
       "div.sk-parallel-item,\n",
       "div.sk-serial,\n",
       "div.sk-item {\n",
       "  /* draw centered vertical line to link estimators */\n",
       "  background-image: linear-gradient(var(--sklearn-color-text-on-default-background), var(--sklearn-color-text-on-default-background));\n",
       "  background-size: 2px 100%;\n",
       "  background-repeat: no-repeat;\n",
       "  background-position: center center;\n",
       "}\n",
       "\n",
       "/* Parallel-specific style estimator block */\n",
       "\n",
       "#sk-container-id-2 div.sk-parallel-item::after {\n",
       "  content: \"\";\n",
       "  width: 100%;\n",
       "  border-bottom: 2px solid var(--sklearn-color-text-on-default-background);\n",
       "  flex-grow: 1;\n",
       "}\n",
       "\n",
       "#sk-container-id-2 div.sk-parallel {\n",
       "  display: flex;\n",
       "  align-items: stretch;\n",
       "  justify-content: center;\n",
       "  background-color: var(--sklearn-color-background);\n",
       "  position: relative;\n",
       "}\n",
       "\n",
       "#sk-container-id-2 div.sk-parallel-item {\n",
       "  display: flex;\n",
       "  flex-direction: column;\n",
       "}\n",
       "\n",
       "#sk-container-id-2 div.sk-parallel-item:first-child::after {\n",
       "  align-self: flex-end;\n",
       "  width: 50%;\n",
       "}\n",
       "\n",
       "#sk-container-id-2 div.sk-parallel-item:last-child::after {\n",
       "  align-self: flex-start;\n",
       "  width: 50%;\n",
       "}\n",
       "\n",
       "#sk-container-id-2 div.sk-parallel-item:only-child::after {\n",
       "  width: 0;\n",
       "}\n",
       "\n",
       "/* Serial-specific style estimator block */\n",
       "\n",
       "#sk-container-id-2 div.sk-serial {\n",
       "  display: flex;\n",
       "  flex-direction: column;\n",
       "  align-items: center;\n",
       "  background-color: var(--sklearn-color-background);\n",
       "  padding-right: 1em;\n",
       "  padding-left: 1em;\n",
       "}\n",
       "\n",
       "\n",
       "/* Toggleable style: style used for estimator/Pipeline/ColumnTransformer box that is\n",
       "clickable and can be expanded/collapsed.\n",
       "- Pipeline and ColumnTransformer use this feature and define the default style\n",
       "- Estimators will overwrite some part of the style using the `sk-estimator` class\n",
       "*/\n",
       "\n",
       "/* Pipeline and ColumnTransformer style (default) */\n",
       "\n",
       "#sk-container-id-2 div.sk-toggleable {\n",
       "  /* Default theme specific background. It is overwritten whether we have a\n",
       "  specific estimator or a Pipeline/ColumnTransformer */\n",
       "  background-color: var(--sklearn-color-background);\n",
       "}\n",
       "\n",
       "/* Toggleable label */\n",
       "#sk-container-id-2 label.sk-toggleable__label {\n",
       "  cursor: pointer;\n",
       "  display: block;\n",
       "  width: 100%;\n",
       "  margin-bottom: 0;\n",
       "  padding: 0.5em;\n",
       "  box-sizing: border-box;\n",
       "  text-align: center;\n",
       "}\n",
       "\n",
       "#sk-container-id-2 label.sk-toggleable__label-arrow:before {\n",
       "  /* Arrow on the left of the label */\n",
       "  content: \"▸\";\n",
       "  float: left;\n",
       "  margin-right: 0.25em;\n",
       "  color: var(--sklearn-color-icon);\n",
       "}\n",
       "\n",
       "#sk-container-id-2 label.sk-toggleable__label-arrow:hover:before {\n",
       "  color: var(--sklearn-color-text);\n",
       "}\n",
       "\n",
       "/* Toggleable content - dropdown */\n",
       "\n",
       "#sk-container-id-2 div.sk-toggleable__content {\n",
       "  max-height: 0;\n",
       "  max-width: 0;\n",
       "  overflow: hidden;\n",
       "  text-align: left;\n",
       "  /* unfitted */\n",
       "  background-color: var(--sklearn-color-unfitted-level-0);\n",
       "}\n",
       "\n",
       "#sk-container-id-2 div.sk-toggleable__content.fitted {\n",
       "  /* fitted */\n",
       "  background-color: var(--sklearn-color-fitted-level-0);\n",
       "}\n",
       "\n",
       "#sk-container-id-2 div.sk-toggleable__content pre {\n",
       "  margin: 0.2em;\n",
       "  border-radius: 0.25em;\n",
       "  color: var(--sklearn-color-text);\n",
       "  /* unfitted */\n",
       "  background-color: var(--sklearn-color-unfitted-level-0);\n",
       "}\n",
       "\n",
       "#sk-container-id-2 div.sk-toggleable__content.fitted pre {\n",
       "  /* unfitted */\n",
       "  background-color: var(--sklearn-color-fitted-level-0);\n",
       "}\n",
       "\n",
       "#sk-container-id-2 input.sk-toggleable__control:checked~div.sk-toggleable__content {\n",
       "  /* Expand drop-down */\n",
       "  max-height: 200px;\n",
       "  max-width: 100%;\n",
       "  overflow: auto;\n",
       "}\n",
       "\n",
       "#sk-container-id-2 input.sk-toggleable__control:checked~label.sk-toggleable__label-arrow:before {\n",
       "  content: \"▾\";\n",
       "}\n",
       "\n",
       "/* Pipeline/ColumnTransformer-specific style */\n",
       "\n",
       "#sk-container-id-2 div.sk-label input.sk-toggleable__control:checked~label.sk-toggleable__label {\n",
       "  color: var(--sklearn-color-text);\n",
       "  background-color: var(--sklearn-color-unfitted-level-2);\n",
       "}\n",
       "\n",
       "#sk-container-id-2 div.sk-label.fitted input.sk-toggleable__control:checked~label.sk-toggleable__label {\n",
       "  background-color: var(--sklearn-color-fitted-level-2);\n",
       "}\n",
       "\n",
       "/* Estimator-specific style */\n",
       "\n",
       "/* Colorize estimator box */\n",
       "#sk-container-id-2 div.sk-estimator input.sk-toggleable__control:checked~label.sk-toggleable__label {\n",
       "  /* unfitted */\n",
       "  background-color: var(--sklearn-color-unfitted-level-2);\n",
       "}\n",
       "\n",
       "#sk-container-id-2 div.sk-estimator.fitted input.sk-toggleable__control:checked~label.sk-toggleable__label {\n",
       "  /* fitted */\n",
       "  background-color: var(--sklearn-color-fitted-level-2);\n",
       "}\n",
       "\n",
       "#sk-container-id-2 div.sk-label label.sk-toggleable__label,\n",
       "#sk-container-id-2 div.sk-label label {\n",
       "  /* The background is the default theme color */\n",
       "  color: var(--sklearn-color-text-on-default-background);\n",
       "}\n",
       "\n",
       "/* On hover, darken the color of the background */\n",
       "#sk-container-id-2 div.sk-label:hover label.sk-toggleable__label {\n",
       "  color: var(--sklearn-color-text);\n",
       "  background-color: var(--sklearn-color-unfitted-level-2);\n",
       "}\n",
       "\n",
       "/* Label box, darken color on hover, fitted */\n",
       "#sk-container-id-2 div.sk-label.fitted:hover label.sk-toggleable__label.fitted {\n",
       "  color: var(--sklearn-color-text);\n",
       "  background-color: var(--sklearn-color-fitted-level-2);\n",
       "}\n",
       "\n",
       "/* Estimator label */\n",
       "\n",
       "#sk-container-id-2 div.sk-label label {\n",
       "  font-family: monospace;\n",
       "  font-weight: bold;\n",
       "  display: inline-block;\n",
       "  line-height: 1.2em;\n",
       "}\n",
       "\n",
       "#sk-container-id-2 div.sk-label-container {\n",
       "  text-align: center;\n",
       "}\n",
       "\n",
       "/* Estimator-specific */\n",
       "#sk-container-id-2 div.sk-estimator {\n",
       "  font-family: monospace;\n",
       "  border: 1px dotted var(--sklearn-color-border-box);\n",
       "  border-radius: 0.25em;\n",
       "  box-sizing: border-box;\n",
       "  margin-bottom: 0.5em;\n",
       "  /* unfitted */\n",
       "  background-color: var(--sklearn-color-unfitted-level-0);\n",
       "}\n",
       "\n",
       "#sk-container-id-2 div.sk-estimator.fitted {\n",
       "  /* fitted */\n",
       "  background-color: var(--sklearn-color-fitted-level-0);\n",
       "}\n",
       "\n",
       "/* on hover */\n",
       "#sk-container-id-2 div.sk-estimator:hover {\n",
       "  /* unfitted */\n",
       "  background-color: var(--sklearn-color-unfitted-level-2);\n",
       "}\n",
       "\n",
       "#sk-container-id-2 div.sk-estimator.fitted:hover {\n",
       "  /* fitted */\n",
       "  background-color: var(--sklearn-color-fitted-level-2);\n",
       "}\n",
       "\n",
       "/* Specification for estimator info (e.g. \"i\" and \"?\") */\n",
       "\n",
       "/* Common style for \"i\" and \"?\" */\n",
       "\n",
       ".sk-estimator-doc-link,\n",
       "a:link.sk-estimator-doc-link,\n",
       "a:visited.sk-estimator-doc-link {\n",
       "  float: right;\n",
       "  font-size: smaller;\n",
       "  line-height: 1em;\n",
       "  font-family: monospace;\n",
       "  background-color: var(--sklearn-color-background);\n",
       "  border-radius: 1em;\n",
       "  height: 1em;\n",
       "  width: 1em;\n",
       "  text-decoration: none !important;\n",
       "  margin-left: 1ex;\n",
       "  /* unfitted */\n",
       "  border: var(--sklearn-color-unfitted-level-1) 1pt solid;\n",
       "  color: var(--sklearn-color-unfitted-level-1);\n",
       "}\n",
       "\n",
       ".sk-estimator-doc-link.fitted,\n",
       "a:link.sk-estimator-doc-link.fitted,\n",
       "a:visited.sk-estimator-doc-link.fitted {\n",
       "  /* fitted */\n",
       "  border: var(--sklearn-color-fitted-level-1) 1pt solid;\n",
       "  color: var(--sklearn-color-fitted-level-1);\n",
       "}\n",
       "\n",
       "/* On hover */\n",
       "div.sk-estimator:hover .sk-estimator-doc-link:hover,\n",
       ".sk-estimator-doc-link:hover,\n",
       "div.sk-label-container:hover .sk-estimator-doc-link:hover,\n",
       ".sk-estimator-doc-link:hover {\n",
       "  /* unfitted */\n",
       "  background-color: var(--sklearn-color-unfitted-level-3);\n",
       "  color: var(--sklearn-color-background);\n",
       "  text-decoration: none;\n",
       "}\n",
       "\n",
       "div.sk-estimator.fitted:hover .sk-estimator-doc-link.fitted:hover,\n",
       ".sk-estimator-doc-link.fitted:hover,\n",
       "div.sk-label-container:hover .sk-estimator-doc-link.fitted:hover,\n",
       ".sk-estimator-doc-link.fitted:hover {\n",
       "  /* fitted */\n",
       "  background-color: var(--sklearn-color-fitted-level-3);\n",
       "  color: var(--sklearn-color-background);\n",
       "  text-decoration: none;\n",
       "}\n",
       "\n",
       "/* Span, style for the box shown on hovering the info icon */\n",
       ".sk-estimator-doc-link span {\n",
       "  display: none;\n",
       "  z-index: 9999;\n",
       "  position: relative;\n",
       "  font-weight: normal;\n",
       "  right: .2ex;\n",
       "  padding: .5ex;\n",
       "  margin: .5ex;\n",
       "  width: min-content;\n",
       "  min-width: 20ex;\n",
       "  max-width: 50ex;\n",
       "  color: var(--sklearn-color-text);\n",
       "  box-shadow: 2pt 2pt 4pt #999;\n",
       "  /* unfitted */\n",
       "  background: var(--sklearn-color-unfitted-level-0);\n",
       "  border: .5pt solid var(--sklearn-color-unfitted-level-3);\n",
       "}\n",
       "\n",
       ".sk-estimator-doc-link.fitted span {\n",
       "  /* fitted */\n",
       "  background: var(--sklearn-color-fitted-level-0);\n",
       "  border: var(--sklearn-color-fitted-level-3);\n",
       "}\n",
       "\n",
       ".sk-estimator-doc-link:hover span {\n",
       "  display: block;\n",
       "}\n",
       "\n",
       "/* \"?\"-specific style due to the `<a>` HTML tag */\n",
       "\n",
       "#sk-container-id-2 a.estimator_doc_link {\n",
       "  float: right;\n",
       "  font-size: 1rem;\n",
       "  line-height: 1em;\n",
       "  font-family: monospace;\n",
       "  background-color: var(--sklearn-color-background);\n",
       "  border-radius: 1rem;\n",
       "  height: 1rem;\n",
       "  width: 1rem;\n",
       "  text-decoration: none;\n",
       "  /* unfitted */\n",
       "  color: var(--sklearn-color-unfitted-level-1);\n",
       "  border: var(--sklearn-color-unfitted-level-1) 1pt solid;\n",
       "}\n",
       "\n",
       "#sk-container-id-2 a.estimator_doc_link.fitted {\n",
       "  /* fitted */\n",
       "  border: var(--sklearn-color-fitted-level-1) 1pt solid;\n",
       "  color: var(--sklearn-color-fitted-level-1);\n",
       "}\n",
       "\n",
       "/* On hover */\n",
       "#sk-container-id-2 a.estimator_doc_link:hover {\n",
       "  /* unfitted */\n",
       "  background-color: var(--sklearn-color-unfitted-level-3);\n",
       "  color: var(--sklearn-color-background);\n",
       "  text-decoration: none;\n",
       "}\n",
       "\n",
       "#sk-container-id-2 a.estimator_doc_link.fitted:hover {\n",
       "  /* fitted */\n",
       "  background-color: var(--sklearn-color-fitted-level-3);\n",
       "}\n",
       "</style><div id=\"sk-container-id-2\" class=\"sk-top-container\"><div class=\"sk-text-repr-fallback\"><pre>Pipeline(steps=[(&#x27;norm&#x27;, Normalizer()), (&#x27;model&#x27;, RandomForestClassifier())])</pre><b>In a Jupyter environment, please rerun this cell to show the HTML representation or trust the notebook. <br />On GitHub, the HTML representation is unable to render, please try loading this page with nbviewer.org.</b></div><div class=\"sk-container\" hidden><div class=\"sk-item sk-dashed-wrapped\"><div class=\"sk-label-container\"><div class=\"sk-label fitted sk-toggleable\"><input class=\"sk-toggleable__control sk-hidden--visually\" id=\"sk-estimator-id-4\" type=\"checkbox\" ><label for=\"sk-estimator-id-4\" class=\"sk-toggleable__label fitted sk-toggleable__label-arrow fitted\">&nbsp;&nbsp;Pipeline<a class=\"sk-estimator-doc-link fitted\" rel=\"noreferrer\" target=\"_blank\" href=\"https://scikit-learn.org/1.5/modules/generated/sklearn.pipeline.Pipeline.html\">?<span>Documentation for Pipeline</span></a><span class=\"sk-estimator-doc-link fitted\">i<span>Fitted</span></span></label><div class=\"sk-toggleable__content fitted\"><pre>Pipeline(steps=[(&#x27;norm&#x27;, Normalizer()), (&#x27;model&#x27;, RandomForestClassifier())])</pre></div> </div></div><div class=\"sk-serial\"><div class=\"sk-item\"><div class=\"sk-estimator fitted sk-toggleable\"><input class=\"sk-toggleable__control sk-hidden--visually\" id=\"sk-estimator-id-5\" type=\"checkbox\" ><label for=\"sk-estimator-id-5\" class=\"sk-toggleable__label fitted sk-toggleable__label-arrow fitted\">&nbsp;Normalizer<a class=\"sk-estimator-doc-link fitted\" rel=\"noreferrer\" target=\"_blank\" href=\"https://scikit-learn.org/1.5/modules/generated/sklearn.preprocessing.Normalizer.html\">?<span>Documentation for Normalizer</span></a></label><div class=\"sk-toggleable__content fitted\"><pre>Normalizer()</pre></div> </div></div><div class=\"sk-item\"><div class=\"sk-estimator fitted sk-toggleable\"><input class=\"sk-toggleable__control sk-hidden--visually\" id=\"sk-estimator-id-6\" type=\"checkbox\" ><label for=\"sk-estimator-id-6\" class=\"sk-toggleable__label fitted sk-toggleable__label-arrow fitted\">&nbsp;RandomForestClassifier<a class=\"sk-estimator-doc-link fitted\" rel=\"noreferrer\" target=\"_blank\" href=\"https://scikit-learn.org/1.5/modules/generated/sklearn.ensemble.RandomForestClassifier.html\">?<span>Documentation for RandomForestClassifier</span></a></label><div class=\"sk-toggleable__content fitted\"><pre>RandomForestClassifier()</pre></div> </div></div></div></div></div></div>"
      ],
      "text/plain": [
       "Pipeline(steps=[('norm', Normalizer()), ('model', RandomForestClassifier())])"
      ]
     },
     "execution_count": 41,
     "metadata": {},
     "output_type": "execute_result"
    }
   ],
   "source": [
    "pipeline.fit(x_train, y_train)"
   ]
  },
  {
   "cell_type": "code",
   "execution_count": 42,
   "metadata": {
    "collapsed": false
   },
   "outputs": [],
   "source": [
    "# Чтобы сохранить модель и не обучать её заново, можно сохранить её в файл следующим образом:\n",
    "# with open(\"model.pkl\", 'wb') as file:\n",
    "#     pickle.dump(pipeline, file)\n",
    "\n",
    "# Код для загрузки модели из файла:\n",
    "# with open('model.pkl', 'rb') as file:\n",
    "#     pipeline = pickle.load(file)"
   ]
  },
  {
   "cell_type": "code",
   "execution_count": 43,
   "metadata": {
    "id": "-bflpFek2p8B"
   },
   "outputs": [],
   "source": [
    "ans = pipeline.predict(x_test)  # Получаем в каждой строке принадлежность к каждому классу\n",
    "pred_ans = np.zeros_like(ans).astype(\"int32\")\n",
    "pred_ans[np.arange(len(ans)), ans.argmax(1)] = 1  # Расставляем единички в столбцах с максимумом"
   ]
  },
  {
   "cell_type": "code",
   "execution_count": 44,
   "metadata": {
    "id": "wiMrzZuJ2p8B"
   },
   "outputs": [
    {
     "name": "stdout",
     "output_type": "stream",
     "text": [
      "              precision    recall  f1-score   support\n",
      "\n",
      "           0       0.73      1.00      0.84        16\n",
      "           1       1.00      0.79      0.88        14\n",
      "           2       1.00      1.00      1.00        17\n",
      "           3       0.89      0.96      0.92        25\n",
      "           4       1.00      0.89      0.94        18\n",
      "           5       0.94      0.79      0.86        19\n",
      "\n",
      "   micro avg       0.91      0.91      0.91       109\n",
      "   macro avg       0.93      0.90      0.91       109\n",
      "weighted avg       0.92      0.91      0.91       109\n",
      " samples avg       0.91      0.91      0.91       109\n",
      "\n"
     ]
    }
   ],
   "source": [
    "print(classification_report(y_test, pred_ans))"
   ]
  },
  {
   "cell_type": "markdown",
   "metadata": {
    "collapsed": false,
    "id": "4EExAy4K2p8B"
   },
   "source": [
    "#### Запишем спрогнозированные ответы"
   ]
  },
  {
   "cell_type": "code",
   "execution_count": 45,
   "metadata": {
    "id": "sV9-lrUQ2p8C"
   },
   "outputs": [],
   "source": [
    "df_ndvi_test = pd.read_csv(\"test/NDVI.csv\", sep=\";\", encoding=\"windows-1251\").drop(columns=[\"index\"])\n",
    "df_nir_test = pd.read_csv(\"test/B8A.csv\", sep=';', encoding=\"windows-1251\").drop(columns=[\"index\"])\n",
    "df_swir_test = pd.read_csv(\"test/B12.csv\", sep=';', encoding=\"windows-1251\").drop(columns=[\"index\"])\n",
    "df_ndvi_test = df_ndvi_test.dropna()\n",
    "df_swir_test = df_swir_test.dropna()\n",
    "df_nir_test = df_nir_test.dropna()\n",
    "# Удалим отсутствующие значение(возможно, их стоит заменять)\n",
    "\n",
    "df_features_test = df_ndvi_test.copy()\n",
    "for day in xx:\n",
    "    df_features_test[f\"{day}_NDWI\"] = (df_nir_test[day] - df_swir_test[day]) / (df_nir_test[day] + df_swir_test[day])\n",
    "    df_features_test[f\"{day}_NEW\"] = df_ndvi_test[day] * df_features_test[f\"{day}_NDWI\"]"
   ]
  },
  {
   "cell_type": "code",
   "execution_count": 46,
   "metadata": {
    "id": "3q1uCU6G2p8C"
   },
   "outputs": [
    {
     "ename": "KeyError",
     "evalue": "\"['culture'] not found in axis\"",
     "output_type": "error",
     "traceback": [
      "\u001b[1;31m---------------------------------------------------------------------------\u001b[0m",
      "\u001b[1;31mKeyError\u001b[0m                                  Traceback (most recent call last)",
      "Cell \u001b[1;32mIn[46], line 1\u001b[0m\n\u001b[1;32m----> 1\u001b[0m x \u001b[38;5;241m=\u001b[39m \u001b[43mdf_features_test\u001b[49m\u001b[38;5;241;43m.\u001b[39;49m\u001b[43mdrop\u001b[49m\u001b[43m(\u001b[49m\u001b[43mcolumns\u001b[49m\u001b[38;5;241;43m=\u001b[39;49m\u001b[43m[\u001b[49m\u001b[38;5;124;43m\"\u001b[39;49m\u001b[38;5;124;43mculture\u001b[39;49m\u001b[38;5;124;43m\"\u001b[39;49m\u001b[43m]\u001b[49m\u001b[43m)\u001b[49m\n\u001b[0;32m      3\u001b[0m ans_test \u001b[38;5;241m=\u001b[39m pipeline\u001b[38;5;241m.\u001b[39mpredict(x)\n\u001b[0;32m      4\u001b[0m pred_ans_test \u001b[38;5;241m=\u001b[39m np\u001b[38;5;241m.\u001b[39mzeros_like(ans_test)\u001b[38;5;241m.\u001b[39mastype(\u001b[38;5;124m\"\u001b[39m\u001b[38;5;124mint32\u001b[39m\u001b[38;5;124m\"\u001b[39m)\n",
      "File \u001b[1;32m~\\PycharmProjects\\geoML\\venv\\lib\\site-packages\\pandas\\core\\frame.py:5581\u001b[0m, in \u001b[0;36mDataFrame.drop\u001b[1;34m(self, labels, axis, index, columns, level, inplace, errors)\u001b[0m\n\u001b[0;32m   5433\u001b[0m \u001b[38;5;28;01mdef\u001b[39;00m \u001b[38;5;21mdrop\u001b[39m(\n\u001b[0;32m   5434\u001b[0m     \u001b[38;5;28mself\u001b[39m,\n\u001b[0;32m   5435\u001b[0m     labels: IndexLabel \u001b[38;5;241m|\u001b[39m \u001b[38;5;28;01mNone\u001b[39;00m \u001b[38;5;241m=\u001b[39m \u001b[38;5;28;01mNone\u001b[39;00m,\n\u001b[1;32m   (...)\u001b[0m\n\u001b[0;32m   5442\u001b[0m     errors: IgnoreRaise \u001b[38;5;241m=\u001b[39m \u001b[38;5;124m\"\u001b[39m\u001b[38;5;124mraise\u001b[39m\u001b[38;5;124m\"\u001b[39m,\n\u001b[0;32m   5443\u001b[0m ) \u001b[38;5;241m-\u001b[39m\u001b[38;5;241m>\u001b[39m DataFrame \u001b[38;5;241m|\u001b[39m \u001b[38;5;28;01mNone\u001b[39;00m:\n\u001b[0;32m   5444\u001b[0m \u001b[38;5;250m    \u001b[39m\u001b[38;5;124;03m\"\"\"\u001b[39;00m\n\u001b[0;32m   5445\u001b[0m \u001b[38;5;124;03m    Drop specified labels from rows or columns.\u001b[39;00m\n\u001b[0;32m   5446\u001b[0m \n\u001b[1;32m   (...)\u001b[0m\n\u001b[0;32m   5579\u001b[0m \u001b[38;5;124;03m            weight  1.0     0.8\u001b[39;00m\n\u001b[0;32m   5580\u001b[0m \u001b[38;5;124;03m    \"\"\"\u001b[39;00m\n\u001b[1;32m-> 5581\u001b[0m     \u001b[38;5;28;01mreturn\u001b[39;00m \u001b[38;5;28;43msuper\u001b[39;49m\u001b[43m(\u001b[49m\u001b[43m)\u001b[49m\u001b[38;5;241;43m.\u001b[39;49m\u001b[43mdrop\u001b[49m\u001b[43m(\u001b[49m\n\u001b[0;32m   5582\u001b[0m \u001b[43m        \u001b[49m\u001b[43mlabels\u001b[49m\u001b[38;5;241;43m=\u001b[39;49m\u001b[43mlabels\u001b[49m\u001b[43m,\u001b[49m\n\u001b[0;32m   5583\u001b[0m \u001b[43m        \u001b[49m\u001b[43maxis\u001b[49m\u001b[38;5;241;43m=\u001b[39;49m\u001b[43maxis\u001b[49m\u001b[43m,\u001b[49m\n\u001b[0;32m   5584\u001b[0m \u001b[43m        \u001b[49m\u001b[43mindex\u001b[49m\u001b[38;5;241;43m=\u001b[39;49m\u001b[43mindex\u001b[49m\u001b[43m,\u001b[49m\n\u001b[0;32m   5585\u001b[0m \u001b[43m        \u001b[49m\u001b[43mcolumns\u001b[49m\u001b[38;5;241;43m=\u001b[39;49m\u001b[43mcolumns\u001b[49m\u001b[43m,\u001b[49m\n\u001b[0;32m   5586\u001b[0m \u001b[43m        \u001b[49m\u001b[43mlevel\u001b[49m\u001b[38;5;241;43m=\u001b[39;49m\u001b[43mlevel\u001b[49m\u001b[43m,\u001b[49m\n\u001b[0;32m   5587\u001b[0m \u001b[43m        \u001b[49m\u001b[43minplace\u001b[49m\u001b[38;5;241;43m=\u001b[39;49m\u001b[43minplace\u001b[49m\u001b[43m,\u001b[49m\n\u001b[0;32m   5588\u001b[0m \u001b[43m        \u001b[49m\u001b[43merrors\u001b[49m\u001b[38;5;241;43m=\u001b[39;49m\u001b[43merrors\u001b[49m\u001b[43m,\u001b[49m\n\u001b[0;32m   5589\u001b[0m \u001b[43m    \u001b[49m\u001b[43m)\u001b[49m\n",
      "File \u001b[1;32m~\\PycharmProjects\\geoML\\venv\\lib\\site-packages\\pandas\\core\\generic.py:4788\u001b[0m, in \u001b[0;36mNDFrame.drop\u001b[1;34m(self, labels, axis, index, columns, level, inplace, errors)\u001b[0m\n\u001b[0;32m   4786\u001b[0m \u001b[38;5;28;01mfor\u001b[39;00m axis, labels \u001b[38;5;129;01min\u001b[39;00m axes\u001b[38;5;241m.\u001b[39mitems():\n\u001b[0;32m   4787\u001b[0m     \u001b[38;5;28;01mif\u001b[39;00m labels \u001b[38;5;129;01mis\u001b[39;00m \u001b[38;5;129;01mnot\u001b[39;00m \u001b[38;5;28;01mNone\u001b[39;00m:\n\u001b[1;32m-> 4788\u001b[0m         obj \u001b[38;5;241m=\u001b[39m \u001b[43mobj\u001b[49m\u001b[38;5;241;43m.\u001b[39;49m\u001b[43m_drop_axis\u001b[49m\u001b[43m(\u001b[49m\u001b[43mlabels\u001b[49m\u001b[43m,\u001b[49m\u001b[43m \u001b[49m\u001b[43maxis\u001b[49m\u001b[43m,\u001b[49m\u001b[43m \u001b[49m\u001b[43mlevel\u001b[49m\u001b[38;5;241;43m=\u001b[39;49m\u001b[43mlevel\u001b[49m\u001b[43m,\u001b[49m\u001b[43m \u001b[49m\u001b[43merrors\u001b[49m\u001b[38;5;241;43m=\u001b[39;49m\u001b[43merrors\u001b[49m\u001b[43m)\u001b[49m\n\u001b[0;32m   4790\u001b[0m \u001b[38;5;28;01mif\u001b[39;00m inplace:\n\u001b[0;32m   4791\u001b[0m     \u001b[38;5;28mself\u001b[39m\u001b[38;5;241m.\u001b[39m_update_inplace(obj)\n",
      "File \u001b[1;32m~\\PycharmProjects\\geoML\\venv\\lib\\site-packages\\pandas\\core\\generic.py:4830\u001b[0m, in \u001b[0;36mNDFrame._drop_axis\u001b[1;34m(self, labels, axis, level, errors, only_slice)\u001b[0m\n\u001b[0;32m   4828\u001b[0m         new_axis \u001b[38;5;241m=\u001b[39m axis\u001b[38;5;241m.\u001b[39mdrop(labels, level\u001b[38;5;241m=\u001b[39mlevel, errors\u001b[38;5;241m=\u001b[39merrors)\n\u001b[0;32m   4829\u001b[0m     \u001b[38;5;28;01melse\u001b[39;00m:\n\u001b[1;32m-> 4830\u001b[0m         new_axis \u001b[38;5;241m=\u001b[39m \u001b[43maxis\u001b[49m\u001b[38;5;241;43m.\u001b[39;49m\u001b[43mdrop\u001b[49m\u001b[43m(\u001b[49m\u001b[43mlabels\u001b[49m\u001b[43m,\u001b[49m\u001b[43m \u001b[49m\u001b[43merrors\u001b[49m\u001b[38;5;241;43m=\u001b[39;49m\u001b[43merrors\u001b[49m\u001b[43m)\u001b[49m\n\u001b[0;32m   4831\u001b[0m     indexer \u001b[38;5;241m=\u001b[39m axis\u001b[38;5;241m.\u001b[39mget_indexer(new_axis)\n\u001b[0;32m   4833\u001b[0m \u001b[38;5;66;03m# Case for non-unique axis\u001b[39;00m\n\u001b[0;32m   4834\u001b[0m \u001b[38;5;28;01melse\u001b[39;00m:\n",
      "File \u001b[1;32m~\\PycharmProjects\\geoML\\venv\\lib\\site-packages\\pandas\\core\\indexes\\base.py:7070\u001b[0m, in \u001b[0;36mIndex.drop\u001b[1;34m(self, labels, errors)\u001b[0m\n\u001b[0;32m   7068\u001b[0m \u001b[38;5;28;01mif\u001b[39;00m mask\u001b[38;5;241m.\u001b[39many():\n\u001b[0;32m   7069\u001b[0m     \u001b[38;5;28;01mif\u001b[39;00m errors \u001b[38;5;241m!=\u001b[39m \u001b[38;5;124m\"\u001b[39m\u001b[38;5;124mignore\u001b[39m\u001b[38;5;124m\"\u001b[39m:\n\u001b[1;32m-> 7070\u001b[0m         \u001b[38;5;28;01mraise\u001b[39;00m \u001b[38;5;167;01mKeyError\u001b[39;00m(\u001b[38;5;124mf\u001b[39m\u001b[38;5;124m\"\u001b[39m\u001b[38;5;132;01m{\u001b[39;00mlabels[mask]\u001b[38;5;241m.\u001b[39mtolist()\u001b[38;5;132;01m}\u001b[39;00m\u001b[38;5;124m not found in axis\u001b[39m\u001b[38;5;124m\"\u001b[39m)\n\u001b[0;32m   7071\u001b[0m     indexer \u001b[38;5;241m=\u001b[39m indexer[\u001b[38;5;241m~\u001b[39mmask]\n\u001b[0;32m   7072\u001b[0m \u001b[38;5;28;01mreturn\u001b[39;00m \u001b[38;5;28mself\u001b[39m\u001b[38;5;241m.\u001b[39mdelete(indexer)\n",
      "\u001b[1;31mKeyError\u001b[0m: \"['culture'] not found in axis\""
     ]
    }
   ],
   "source": [
    "x = df_features_test.drop(columns=[\"culture\"])\n",
    "\n",
    "ans_test = pipeline.predict(x)\n",
    "pred_ans_test = np.zeros_like(ans_test).astype(\"int32\")\n",
    "pred_ans_test[np.arange(len(ans_test)), ans_test.argmax(1)] = 1"
   ]
  },
  {
   "cell_type": "markdown",
   "metadata": {
    "collapsed": false,
    "id": "73lqiu7V2p8C"
   },
   "source": [
    "Формат ответа:\n",
    "Первая строка состоит из одного слова \"culture\"\n",
    "На каждой следующей строке названия культуры для спрогнозированных данных в том же порядке, что и тестовых данных."
   ]
  },
  {
   "cell_type": "code",
   "execution_count": null,
   "metadata": {
    "id": "Rgip6KKh2p8C"
   },
   "outputs": [],
   "source": [
    "with open(\"predicted.csv\", encoding=\"windows-1251\", mode=\"w\") as file:  # Запись ответов в файл\n",
    "    file.write(\"culture\\n\")\n",
    "    for row in encoder.inverse_transform(pred_ans_test):\n",
    "        file.write(f\"{row[0]}\\n\")"
   ]
  }
 ],
 "metadata": {
  "colab": {
   "provenance": []
  },
  "kernelspec": {
   "display_name": "Python 3",
   "language": "python",
   "name": "python3"
  },
  "language_info": {
   "codemirror_mode": {
    "name": "ipython",
    "version": 2
   },
   "file_extension": ".py",
   "mimetype": "text/x-python",
   "name": "python",
   "nbconvert_exporter": "python",
   "pygments_lexer": "ipython2",
   "version": "2.7.6"
  }
 },
 "nbformat": 4,
 "nbformat_minor": 0
}
